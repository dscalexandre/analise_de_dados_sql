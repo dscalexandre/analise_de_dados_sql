{
 "cells": [
  {
   "cell_type": "markdown",
   "metadata": {},
   "source": [
    "# <font color='green'>PROJETO DE DATA SCIENCE</font>\n",
    "## <font color='green'>ANÁLISE DE DADOS</font>\n",
    "### <font color='green'>BANCO DE DADOS RELACIONAL - LINGUAGEM PYTHON E SQL PARA ANÁLISE DE DADOS</font>"
   ]
  },
  {
   "cell_type": "markdown",
   "metadata": {},
   "source": [
    "Este é um projeto de análise de dados utilizando linguagem de programção Python e SQL em um Jupyter Notebook para analisar um conjunto de dados fictícios de uma rede de varejo em um banco de dados relacional (SQLite)."
   ]
  },
  {
   "cell_type": "code",
   "execution_count": 1,
   "metadata": {},
   "outputs": [
    {
     "name": "stdout",
     "output_type": "stream",
     "text": [
      "A verão python utilizada neste jupyter notebook: 3.11.5\n"
     ]
    }
   ],
   "source": [
    "# Versão da Linguagem Python\n",
    "from platform import python_version\n",
    "print('A verão python utilizada neste jupyter notebook:', python_version())"
   ]
  },
  {
   "cell_type": "code",
   "execution_count": 2,
   "metadata": {},
   "outputs": [],
   "source": [
    "# Gravar versões de pacotes\n",
    "#!pip install -q -U watermark"
   ]
  },
  {
   "cell_type": "code",
   "execution_count": 3,
   "metadata": {},
   "outputs": [],
   "source": [
    "# Pacote para uso de SQL\n",
    "#!pip install -q ipython-sql"
   ]
  },
  {
   "cell_type": "markdown",
   "metadata": {},
   "source": [
    "## Instalar e Carregar Pacotes"
   ]
  },
  {
   "cell_type": "code",
   "execution_count": 4,
   "metadata": {},
   "outputs": [],
   "source": [
    "# Imports\n",
    "import pandas as pd\n",
    "import sqlite3"
   ]
  },
  {
   "cell_type": "code",
   "execution_count": 5,
   "metadata": {},
   "outputs": [
    {
     "name": "stdout",
     "output_type": "stream",
     "text": [
      "pandas : 2.0.3\n",
      "sqlite3: 2.6.0\n",
      "\n"
     ]
    }
   ],
   "source": [
    "# Versões dos pacotes\n",
    "%reload_ext watermark\n",
    "%watermark --iversions"
   ]
  },
  {
   "cell_type": "markdown",
   "metadata": {},
   "source": [
    "## Banco Relacional, Python e SQL para Análise de Dados"
   ]
  },
  {
   "cell_type": "code",
   "execution_count": 6,
   "metadata": {},
   "outputs": [],
   "source": [
    "# Criar conexão com o SQLite\n",
    "cnn = sqlite3.connect('banco_de_dados.db')"
   ]
  },
  {
   "cell_type": "code",
   "execution_count": 7,
   "metadata": {},
   "outputs": [],
   "source": [
    "# Criar dataframe cliente\n",
    "df_cliente = pd.read_csv('datasets/cliente.csv')"
   ]
  },
  {
   "cell_type": "code",
   "execution_count": 8,
   "metadata": {},
   "outputs": [
    {
     "data": {
      "text/plain": [
       "50"
      ]
     },
     "execution_count": 8,
     "metadata": {},
     "output_type": "execute_result"
    }
   ],
   "source": [
    "# Criar uma tabela cliente no SQLite\n",
    "df_cliente.to_sql('cliente', cnn, if_exists='replace', index=False)"
   ]
  },
  {
   "cell_type": "code",
   "execution_count": 9,
   "metadata": {},
   "outputs": [],
   "source": [
    "# Primeiro - carregar a extensão \n",
    "%load_ext sql"
   ]
  },
  {
   "cell_type": "code",
   "execution_count": 10,
   "metadata": {},
   "outputs": [],
   "source": [
    "# Segundo - criar a conexão com o banco de dados SQLite\n",
    "%sql sqlite:///banco_de_dados.db"
   ]
  },
  {
   "cell_type": "code",
   "execution_count": 11,
   "metadata": {},
   "outputs": [
    {
     "name": "stdout",
     "output_type": "stream",
     "text": [
      " * sqlite:///banco_de_dados.db\n",
      "Done.\n"
     ]
    },
    {
     "data": {
      "text/html": [
       "<table>\n",
       "    <thead>\n",
       "        <tr>\n",
       "            <th>clienteid</th>\n",
       "            <th>nome</th>\n",
       "            <th>endereco</th>\n",
       "            <th>cidadecliente</th>\n",
       "            <th>paiscliente</th>\n",
       "        </tr>\n",
       "    </thead>\n",
       "    <tbody>\n",
       "        <tr>\n",
       "            <td>1</td>\n",
       "            <td>Cliente  1</td>\n",
       "            <td>Rua R, 29</td>\n",
       "            <td>Buenos Aires</td>\n",
       "            <td>Argentina</td>\n",
       "        </tr>\n",
       "        <tr>\n",
       "            <td>2</td>\n",
       "            <td>Cliente  2</td>\n",
       "            <td>Rua M, 325</td>\n",
       "            <td>São Paulo</td>\n",
       "            <td>Brasil</td>\n",
       "        </tr>\n",
       "        <tr>\n",
       "            <td>3</td>\n",
       "            <td>Cliente  3</td>\n",
       "            <td>Rua G, 627</td>\n",
       "            <td>New York</td>\n",
       "            <td>EUA</td>\n",
       "        </tr>\n",
       "    </tbody>\n",
       "</table>"
      ],
      "text/plain": [
       "[(1, 'Cliente  1', 'Rua R, 29', 'Buenos Aires', 'Argentina'),\n",
       " (2, 'Cliente  2', 'Rua M, 325', 'São Paulo', 'Brasil'),\n",
       " (3, 'Cliente  3', 'Rua G, 627', 'New York', 'EUA')]"
      ]
     },
     "execution_count": 11,
     "metadata": {},
     "output_type": "execute_result"
    }
   ],
   "source": [
    "%%sql\n",
    "--Testar uma consulta\n",
    "SELECT * FROM cliente LIMIT 3;"
   ]
  },
  {
   "cell_type": "code",
   "execution_count": 12,
   "metadata": {},
   "outputs": [],
   "source": [
    "# Criar dataframes\n",
    "df_data = pd.read_csv('datasets/data.csv')\n",
    "df_distribuidor = pd.read_csv('datasets/distribuidor.csv')\n",
    "df_produto = pd.read_csv('datasets/produto.csv')\n",
    "df_vendas = pd.read_csv('datasets/vendas.csv')"
   ]
  },
  {
   "cell_type": "code",
   "execution_count": 13,
   "metadata": {},
   "outputs": [],
   "source": [
    "dataframes = {\n",
    "    'data': df_data,\n",
    "    'distribuidor': df_distribuidor,\n",
    "    'produto': df_produto,\n",
    "    'vendas': df_vendas }"
   ]
  },
  {
   "cell_type": "code",
   "execution_count": 14,
   "metadata": {},
   "outputs": [],
   "source": [
    "# Anexar cada dataframe ao SQLite\n",
    "for table_name, df in dataframes.items():\n",
    "    df.to_sql(table_name, cnn, if_exists='append', index=False)"
   ]
  },
  {
   "cell_type": "code",
   "execution_count": 15,
   "metadata": {},
   "outputs": [
    {
     "name": "stdout",
     "output_type": "stream",
     "text": [
      " * sqlite:///banco_de_dados.db\n",
      "Done.\n"
     ]
    },
    {
     "data": {
      "text/html": [
       "<table>\n",
       "    <thead>\n",
       "        <tr>\n",
       "            <th>dataid</th>\n",
       "            <th>data</th>\n",
       "            <th>dia</th>\n",
       "            <th>mes</th>\n",
       "            <th>ano</th>\n",
       "            <th>diadasemana</th>\n",
       "        </tr>\n",
       "    </thead>\n",
       "    <tbody>\n",
       "        <tr>\n",
       "            <td>1</td>\n",
       "            <td>2021-01-01</td>\n",
       "            <td>1</td>\n",
       "            <td>1</td>\n",
       "            <td>2021</td>\n",
       "            <td>Friday   </td>\n",
       "        </tr>\n",
       "        <tr>\n",
       "            <td>2</td>\n",
       "            <td>2021-01-02</td>\n",
       "            <td>2</td>\n",
       "            <td>1</td>\n",
       "            <td>2021</td>\n",
       "            <td>Saturday </td>\n",
       "        </tr>\n",
       "        <tr>\n",
       "            <td>3</td>\n",
       "            <td>2021-01-03</td>\n",
       "            <td>3</td>\n",
       "            <td>1</td>\n",
       "            <td>2021</td>\n",
       "            <td>Sunday   </td>\n",
       "        </tr>\n",
       "    </tbody>\n",
       "</table>"
      ],
      "text/plain": [
       "[(1, '2021-01-01', 1, 1, 2021, 'Friday   '),\n",
       " (2, '2021-01-02', 2, 1, 2021, 'Saturday '),\n",
       " (3, '2021-01-03', 3, 1, 2021, 'Sunday   ')]"
      ]
     },
     "execution_count": 15,
     "metadata": {},
     "output_type": "execute_result"
    }
   ],
   "source": [
    "%%sql\n",
    "--Testar nova consulta\n",
    "SELECT * FROM data LIMIT 3;"
   ]
  },
  {
   "cell_type": "code",
   "execution_count": 16,
   "metadata": {},
   "outputs": [
    {
     "name": "stdout",
     "output_type": "stream",
     "text": [
      " * sqlite:///banco_de_dados.db\n",
      "Done.\n"
     ]
    },
    {
     "data": {
      "text/html": [
       "<table>\n",
       "    <thead>\n",
       "        <tr>\n",
       "            <th>name</th>\n",
       "        </tr>\n",
       "    </thead>\n",
       "    <tbody>\n",
       "        <tr>\n",
       "            <td>cliente</td>\n",
       "        </tr>\n",
       "        <tr>\n",
       "            <td>data</td>\n",
       "        </tr>\n",
       "        <tr>\n",
       "            <td>distribuidor</td>\n",
       "        </tr>\n",
       "        <tr>\n",
       "            <td>produto</td>\n",
       "        </tr>\n",
       "        <tr>\n",
       "            <td>vendas</td>\n",
       "        </tr>\n",
       "    </tbody>\n",
       "</table>"
      ],
      "text/plain": [
       "[('cliente',), ('data',), ('distribuidor',), ('produto',), ('vendas',)]"
      ]
     },
     "execution_count": 16,
     "metadata": {},
     "output_type": "execute_result"
    }
   ],
   "source": [
    "%%sql\n",
    "---Listar todas tabelas no SQLite\n",
    "SELECT name FROM sqlite_master WHERE type='table';"
   ]
  },
  {
   "cell_type": "markdown",
   "metadata": {},
   "source": [
    "## RESPONDER PERGUNTAS DE NEGÓCIOS DE UMA REDE DE VAREJO"
   ]
  },
  {
   "cell_type": "markdown",
   "metadata": {},
   "source": [
    "### 1. Qual o número total de vendas e a média de quantidade vendida?"
   ]
  },
  {
   "cell_type": "code",
   "execution_count": 17,
   "metadata": {},
   "outputs": [
    {
     "name": "stdout",
     "output_type": "stream",
     "text": [
      " * sqlite:///banco_de_dados.db\n",
      "Done.\n"
     ]
    },
    {
     "data": {
      "text/html": [
       "<table>\n",
       "    <thead>\n",
       "        <tr>\n",
       "            <th>total_vendas</th>\n",
       "            <th>media_vendas</th>\n",
       "        </tr>\n",
       "    </thead>\n",
       "    <tbody>\n",
       "        <tr>\n",
       "            <td>10000</td>\n",
       "            <td>50.54</td>\n",
       "        </tr>\n",
       "    </tbody>\n",
       "</table>"
      ],
      "text/plain": [
       "[(10000, 50.54)]"
      ]
     },
     "execution_count": 17,
     "metadata": {},
     "output_type": "execute_result"
    }
   ],
   "source": [
    "%%sql\n",
    "SELECT COUNT(quantidadevendida) AS total_vendas, ROUND(AVG(quantidadevendida), 2) AS media_vendas\n",
    "FROM vendas;"
   ]
  },
  {
   "cell_type": "markdown",
   "metadata": {},
   "source": [
    "### 2. Qual o número total de produtos únicos vendidos?"
   ]
  },
  {
   "cell_type": "code",
   "execution_count": 18,
   "metadata": {},
   "outputs": [
    {
     "name": "stdout",
     "output_type": "stream",
     "text": [
      " * sqlite:///banco_de_dados.db\n",
      "Done.\n"
     ]
    },
    {
     "data": {
      "text/html": [
       "<table>\n",
       "    <thead>\n",
       "        <tr>\n",
       "            <th>Produtos_unicos</th>\n",
       "        </tr>\n",
       "    </thead>\n",
       "    <tbody>\n",
       "        <tr>\n",
       "            <td>100</td>\n",
       "        </tr>\n",
       "    </tbody>\n",
       "</table>"
      ],
      "text/plain": [
       "[(100,)]"
      ]
     },
     "execution_count": 18,
     "metadata": {},
     "output_type": "execute_result"
    }
   ],
   "source": [
    "%%sql\n",
    "SELECT COUNT(DISTINCT produtoid) AS Produtos_unicos\n",
    "FROM vendas;"
   ]
  },
  {
   "cell_type": "markdown",
   "metadata": {},
   "source": [
    "### 3. Quais os cinco produtos com maior número de vendas?"
   ]
  },
  {
   "cell_type": "code",
   "execution_count": 19,
   "metadata": {},
   "outputs": [
    {
     "name": "stdout",
     "output_type": "stream",
     "text": [
      " * sqlite:///banco_de_dados.db\n",
      "Done.\n"
     ]
    },
    {
     "data": {
      "text/html": [
       "<table>\n",
       "    <thead>\n",
       "        <tr>\n",
       "            <th>nome_produto</th>\n",
       "            <th>total_vendas</th>\n",
       "        </tr>\n",
       "    </thead>\n",
       "    <tbody>\n",
       "        <tr>\n",
       "            <td>Produto 48</td>\n",
       "            <td>123</td>\n",
       "        </tr>\n",
       "        <tr>\n",
       "            <td>Produto 19</td>\n",
       "            <td>122</td>\n",
       "        </tr>\n",
       "        <tr>\n",
       "            <td>Produto 34</td>\n",
       "            <td>119</td>\n",
       "        </tr>\n",
       "        <tr>\n",
       "            <td>Produto 97</td>\n",
       "            <td>118</td>\n",
       "        </tr>\n",
       "        <tr>\n",
       "            <td>Produto 96</td>\n",
       "            <td>118</td>\n",
       "        </tr>\n",
       "    </tbody>\n",
       "</table>"
      ],
      "text/plain": [
       "[('Produto 48', 123),\n",
       " ('Produto 19', 122),\n",
       " ('Produto 34', 119),\n",
       " ('Produto 97', 118),\n",
       " ('Produto 96', 118)]"
      ]
     },
     "execution_count": 19,
     "metadata": {},
     "output_type": "execute_result"
    }
   ],
   "source": [
    "%%sql\n",
    "SELECT p.nome AS nome_produto, COUNT(v.quantidadevendida) AS total_vendas\n",
    "FROM Produto AS p\n",
    "JOIN Vendas AS v ON v.produtoid = p.produtoid\n",
    "GROUP BY p.nome\n",
    "ORDER BY total_vendas DESC\n",
    "LIMIT 5;"
   ]
  },
  {
   "cell_type": "markdown",
   "metadata": {},
   "source": [
    "### 4. Quais clientes fizeram duzentas e vinte ou mais transações de compra?"
   ]
  },
  {
   "cell_type": "code",
   "execution_count": 20,
   "metadata": {},
   "outputs": [
    {
     "name": "stdout",
     "output_type": "stream",
     "text": [
      " * sqlite:///banco_de_dados.db\n",
      "Done.\n"
     ]
    },
    {
     "data": {
      "text/html": [
       "<table>\n",
       "    <thead>\n",
       "        <tr>\n",
       "            <th>nome_cliente</th>\n",
       "            <th>total_transacoes</th>\n",
       "        </tr>\n",
       "    </thead>\n",
       "    <tbody>\n",
       "        <tr>\n",
       "            <td>Cliente  11</td>\n",
       "            <td>230</td>\n",
       "        </tr>\n",
       "        <tr>\n",
       "            <td>Cliente  2</td>\n",
       "            <td>228</td>\n",
       "        </tr>\n",
       "        <tr>\n",
       "            <td>Cliente  37</td>\n",
       "            <td>222</td>\n",
       "        </tr>\n",
       "        <tr>\n",
       "            <td>Cliente  33</td>\n",
       "            <td>221</td>\n",
       "        </tr>\n",
       "    </tbody>\n",
       "</table>"
      ],
      "text/plain": [
       "[('Cliente  11', 230),\n",
       " ('Cliente  2', 228),\n",
       " ('Cliente  37', 222),\n",
       " ('Cliente  33', 221)]"
      ]
     },
     "execution_count": 20,
     "metadata": {},
     "output_type": "execute_result"
    }
   ],
   "source": [
    "%%sql\n",
    "SELECT c.nome AS nome_cliente, COUNT(c.clienteid) AS total_transacoes\n",
    "FROM cliente AS c\n",
    "JOIN vendas AS V ON v.clienteid = c.clienteid\n",
    "GROUP BY nome_cliente\n",
    "HAVING COUNT(c.clienteid) >= 220\n",
    "ORDER BY total_transacoes DESC;"
   ]
  },
  {
   "cell_type": "markdown",
   "metadata": {},
   "source": [
    "### 5. Listar o nome dos dez produtos com maiores preços da categoria 2."
   ]
  },
  {
   "cell_type": "code",
   "execution_count": 21,
   "metadata": {},
   "outputs": [
    {
     "name": "stdout",
     "output_type": "stream",
     "text": [
      " * sqlite:///banco_de_dados.db\n",
      "Done.\n"
     ]
    },
    {
     "data": {
      "text/html": [
       "<table>\n",
       "    <thead>\n",
       "        <tr>\n",
       "            <th>nome</th>\n",
       "            <th>nomecategoria</th>\n",
       "            <th>preco</th>\n",
       "        </tr>\n",
       "    </thead>\n",
       "    <tbody>\n",
       "        <tr>\n",
       "            <td>Produto 11</td>\n",
       "            <td>Categoria 2</td>\n",
       "            <td>993.44</td>\n",
       "        </tr>\n",
       "        <tr>\n",
       "            <td>Produto 86</td>\n",
       "            <td>Categoria 2</td>\n",
       "            <td>991.4</td>\n",
       "        </tr>\n",
       "        <tr>\n",
       "            <td>Produto 91</td>\n",
       "            <td>Categoria 2</td>\n",
       "            <td>918.52</td>\n",
       "        </tr>\n",
       "        <tr>\n",
       "            <td>Produto 31</td>\n",
       "            <td>Categoria 2</td>\n",
       "            <td>895.53</td>\n",
       "        </tr>\n",
       "        <tr>\n",
       "            <td>Produto 76</td>\n",
       "            <td>Categoria 2</td>\n",
       "            <td>869.35</td>\n",
       "        </tr>\n",
       "        <tr>\n",
       "            <td>Produto 66</td>\n",
       "            <td>Categoria 2</td>\n",
       "            <td>846.68</td>\n",
       "        </tr>\n",
       "        <tr>\n",
       "            <td>Produto 71</td>\n",
       "            <td>Categoria 2</td>\n",
       "            <td>805.6</td>\n",
       "        </tr>\n",
       "        <tr>\n",
       "            <td>Produto 16</td>\n",
       "            <td>Categoria 2</td>\n",
       "            <td>766.33</td>\n",
       "        </tr>\n",
       "        <tr>\n",
       "            <td>Produto 51</td>\n",
       "            <td>Categoria 2</td>\n",
       "            <td>722.91</td>\n",
       "        </tr>\n",
       "        <tr>\n",
       "            <td>Produto 36</td>\n",
       "            <td>Categoria 2</td>\n",
       "            <td>590.59</td>\n",
       "        </tr>\n",
       "    </tbody>\n",
       "</table>"
      ],
      "text/plain": [
       "[('Produto 11', 'Categoria 2', 993.44),\n",
       " ('Produto 86', 'Categoria 2', 991.4),\n",
       " ('Produto 91', 'Categoria 2', 918.52),\n",
       " ('Produto 31', 'Categoria 2', 895.53),\n",
       " ('Produto 76', 'Categoria 2', 869.35),\n",
       " ('Produto 66', 'Categoria 2', 846.68),\n",
       " ('Produto 71', 'Categoria 2', 805.6),\n",
       " ('Produto 16', 'Categoria 2', 766.33),\n",
       " ('Produto 51', 'Categoria 2', 722.91),\n",
       " ('Produto 36', 'Categoria 2', 590.59)]"
      ]
     },
     "execution_count": 21,
     "metadata": {},
     "output_type": "execute_result"
    }
   ],
   "source": [
    "%%sql\n",
    "SELECT nome, nomecategoria, preco\n",
    "FROM produto \n",
    "WHERE nomecategoria = 'Categoria 2'\n",
    "ORDER BY preco DESC\n",
    "LIMIT 10;"
   ]
  },
  {
   "cell_type": "markdown",
   "metadata": {},
   "source": [
    "### 6. Quantos produtos a empresa comercializa?"
   ]
  },
  {
   "cell_type": "code",
   "execution_count": 22,
   "metadata": {},
   "outputs": [
    {
     "name": "stdout",
     "output_type": "stream",
     "text": [
      " * sqlite:///banco_de_dados.db\n",
      "Done.\n"
     ]
    },
    {
     "data": {
      "text/html": [
       "<table>\n",
       "    <thead>\n",
       "        <tr>\n",
       "            <th>total_de_produtos</th>\n",
       "        </tr>\n",
       "    </thead>\n",
       "    <tbody>\n",
       "        <tr>\n",
       "            <td>100</td>\n",
       "        </tr>\n",
       "    </tbody>\n",
       "</table>"
      ],
      "text/plain": [
       "[(100,)]"
      ]
     },
     "execution_count": 22,
     "metadata": {},
     "output_type": "execute_result"
    }
   ],
   "source": [
    "%%sql\n",
    "SELECT COUNT(produtoid) AS total_de_produtos\n",
    "FROM produto"
   ]
  },
  {
   "cell_type": "markdown",
   "metadata": {},
   "source": [
    "### 7. Quais os valores: mínimo, máximo, a média e o total de produtos da categoria 2?"
   ]
  },
  {
   "cell_type": "code",
   "execution_count": 23,
   "metadata": {},
   "outputs": [
    {
     "name": "stdout",
     "output_type": "stream",
     "text": [
      " * sqlite:///banco_de_dados.db\n",
      "Done.\n"
     ]
    },
    {
     "data": {
      "text/html": [
       "<table>\n",
       "    <thead>\n",
       "        <tr>\n",
       "            <th>nomecategoria</th>\n",
       "            <th>valor_minimo</th>\n",
       "            <th>valor_maximo</th>\n",
       "            <th>media</th>\n",
       "            <th>total_produtos</th>\n",
       "        </tr>\n",
       "    </thead>\n",
       "    <tbody>\n",
       "        <tr>\n",
       "            <td>Categoria 2</td>\n",
       "            <td>96.25</td>\n",
       "            <td>993.44</td>\n",
       "            <td>588.84</td>\n",
       "            <td>20</td>\n",
       "        </tr>\n",
       "    </tbody>\n",
       "</table>"
      ],
      "text/plain": [
       "[('Categoria 2', 96.25, 993.44, 588.84, 20)]"
      ]
     },
     "execution_count": 23,
     "metadata": {},
     "output_type": "execute_result"
    }
   ],
   "source": [
    "%%sql\n",
    "SELECT nomecategoria,\n",
    "MIN(preco) AS valor_minimo,\n",
    "MAX(preco) AS valor_maximo,\n",
    "ROUND(AVG(preco), 2) AS media,\n",
    "COUNT(preco) AS total_produtos\n",
    "FROM produto\n",
    "WHERE nomecategoria = 'Categoria 2';"
   ]
  },
  {
   "cell_type": "markdown",
   "metadata": {},
   "source": [
    "### 8. Quais os produtos da categoria 3 têm preços superiores a R$ 350,00?"
   ]
  },
  {
   "cell_type": "code",
   "execution_count": 24,
   "metadata": {},
   "outputs": [
    {
     "name": "stdout",
     "output_type": "stream",
     "text": [
      " * sqlite:///banco_de_dados.db\n",
      "Done.\n"
     ]
    },
    {
     "data": {
      "text/html": [
       "<table>\n",
       "    <thead>\n",
       "        <tr>\n",
       "            <th>nome</th>\n",
       "            <th>preco</th>\n",
       "            <th>nomecategoria</th>\n",
       "        </tr>\n",
       "    </thead>\n",
       "    <tbody>\n",
       "        <tr>\n",
       "            <td>Produto 17</td>\n",
       "            <td>358.08</td>\n",
       "            <td>Categoria 3</td>\n",
       "        </tr>\n",
       "        <tr>\n",
       "            <td>Produto 22</td>\n",
       "            <td>584.69</td>\n",
       "            <td>Categoria 3</td>\n",
       "        </tr>\n",
       "        <tr>\n",
       "            <td>Produto 47</td>\n",
       "            <td>968.15</td>\n",
       "            <td>Categoria 3</td>\n",
       "        </tr>\n",
       "        <tr>\n",
       "            <td>Produto 57</td>\n",
       "            <td>990.91</td>\n",
       "            <td>Categoria 3</td>\n",
       "        </tr>\n",
       "        <tr>\n",
       "            <td>Produto 67</td>\n",
       "            <td>932.19</td>\n",
       "            <td>Categoria 3</td>\n",
       "        </tr>\n",
       "        <tr>\n",
       "            <td>Produto 72</td>\n",
       "            <td>751.92</td>\n",
       "            <td>Categoria 3</td>\n",
       "        </tr>\n",
       "        <tr>\n",
       "            <td>Produto 77</td>\n",
       "            <td>456.47</td>\n",
       "            <td>Categoria 3</td>\n",
       "        </tr>\n",
       "        <tr>\n",
       "            <td>Produto 82</td>\n",
       "            <td>857.05</td>\n",
       "            <td>Categoria 3</td>\n",
       "        </tr>\n",
       "        <tr>\n",
       "            <td>Produto 87</td>\n",
       "            <td>790.92</td>\n",
       "            <td>Categoria 3</td>\n",
       "        </tr>\n",
       "        <tr>\n",
       "            <td>Produto 92</td>\n",
       "            <td>751.29</td>\n",
       "            <td>Categoria 3</td>\n",
       "        </tr>\n",
       "    </tbody>\n",
       "</table>"
      ],
      "text/plain": [
       "[('Produto 17', 358.08, 'Categoria 3'),\n",
       " ('Produto 22', 584.69, 'Categoria 3'),\n",
       " ('Produto 47', 968.15, 'Categoria 3'),\n",
       " ('Produto 57', 990.91, 'Categoria 3'),\n",
       " ('Produto 67', 932.19, 'Categoria 3'),\n",
       " ('Produto 72', 751.92, 'Categoria 3'),\n",
       " ('Produto 77', 456.47, 'Categoria 3'),\n",
       " ('Produto 82', 857.05, 'Categoria 3'),\n",
       " ('Produto 87', 790.92, 'Categoria 3'),\n",
       " ('Produto 92', 751.29, 'Categoria 3')]"
      ]
     },
     "execution_count": 24,
     "metadata": {},
     "output_type": "execute_result"
    }
   ],
   "source": [
    "%%sql\n",
    "SELECT nome, preco, nomecategoria\n",
    "FROM produto\n",
    "WHERE nomecategoria = 'Categoria 3' AND preco > 350.00"
   ]
  },
  {
   "cell_type": "markdown",
   "metadata": {},
   "source": [
    "### 9. Quais produtos da categoria 3 tem valores igual ao maior do que R$ 600,00?"
   ]
  },
  {
   "cell_type": "code",
   "execution_count": 25,
   "metadata": {},
   "outputs": [
    {
     "name": "stdout",
     "output_type": "stream",
     "text": [
      " * sqlite:///banco_de_dados.db\n",
      "Done.\n"
     ]
    },
    {
     "data": {
      "text/html": [
       "<table>\n",
       "    <thead>\n",
       "        <tr>\n",
       "            <th>nomecategoria</th>\n",
       "            <th>nome</th>\n",
       "            <th>preco</th>\n",
       "        </tr>\n",
       "    </thead>\n",
       "    <tbody>\n",
       "        <tr>\n",
       "            <td>Categoria 3</td>\n",
       "            <td>Produto 47</td>\n",
       "            <td>968.15</td>\n",
       "        </tr>\n",
       "        <tr>\n",
       "            <td>Categoria 3</td>\n",
       "            <td>Produto 57</td>\n",
       "            <td>990.91</td>\n",
       "        </tr>\n",
       "        <tr>\n",
       "            <td>Categoria 3</td>\n",
       "            <td>Produto 67</td>\n",
       "            <td>932.19</td>\n",
       "        </tr>\n",
       "        <tr>\n",
       "            <td>Categoria 3</td>\n",
       "            <td>Produto 72</td>\n",
       "            <td>751.92</td>\n",
       "        </tr>\n",
       "        <tr>\n",
       "            <td>Categoria 3</td>\n",
       "            <td>Produto 82</td>\n",
       "            <td>857.05</td>\n",
       "        </tr>\n",
       "        <tr>\n",
       "            <td>Categoria 3</td>\n",
       "            <td>Produto 87</td>\n",
       "            <td>790.92</td>\n",
       "        </tr>\n",
       "        <tr>\n",
       "            <td>Categoria 3</td>\n",
       "            <td>Produto 92</td>\n",
       "            <td>751.29</td>\n",
       "        </tr>\n",
       "    </tbody>\n",
       "</table>"
      ],
      "text/plain": [
       "[('Categoria 3', 'Produto 47', 968.15),\n",
       " ('Categoria 3', 'Produto 57', 990.91),\n",
       " ('Categoria 3', 'Produto 67', 932.19),\n",
       " ('Categoria 3', 'Produto 72', 751.92),\n",
       " ('Categoria 3', 'Produto 82', 857.05),\n",
       " ('Categoria 3', 'Produto 87', 790.92),\n",
       " ('Categoria 3', 'Produto 92', 751.29)]"
      ]
     },
     "execution_count": 25,
     "metadata": {},
     "output_type": "execute_result"
    }
   ],
   "source": [
    "%%sql\n",
    "SELECT nomecategoria, nome, preco\n",
    "FROM produto\n",
    "WHERE nomecategoria = 'Categoria 3' AND preco >= 600.00"
   ]
  },
  {
   "cell_type": "markdown",
   "metadata": {},
   "source": [
    "### 10. Quais as cinco maiores médias de preço por categoria de produto?"
   ]
  },
  {
   "cell_type": "code",
   "execution_count": 26,
   "metadata": {},
   "outputs": [
    {
     "name": "stdout",
     "output_type": "stream",
     "text": [
      " * sqlite:///banco_de_dados.db\n",
      "Done.\n"
     ]
    },
    {
     "data": {
      "text/html": [
       "<table>\n",
       "    <thead>\n",
       "        <tr>\n",
       "            <th>nome</th>\n",
       "            <th>nomecategoria</th>\n",
       "            <th>media_preco</th>\n",
       "        </tr>\n",
       "    </thead>\n",
       "    <tbody>\n",
       "        <tr>\n",
       "            <td>Produto 11</td>\n",
       "            <td>Categoria 2</td>\n",
       "            <td>993.44</td>\n",
       "        </tr>\n",
       "        <tr>\n",
       "            <td>Produto 86</td>\n",
       "            <td>Categoria 2</td>\n",
       "            <td>991.4</td>\n",
       "        </tr>\n",
       "        <tr>\n",
       "            <td>Produto 57</td>\n",
       "            <td>Categoria 3</td>\n",
       "            <td>990.91</td>\n",
       "        </tr>\n",
       "        <tr>\n",
       "            <td>Produto 47</td>\n",
       "            <td>Categoria 3</td>\n",
       "            <td>968.15</td>\n",
       "        </tr>\n",
       "        <tr>\n",
       "            <td>Produto 88</td>\n",
       "            <td>Categoria 4</td>\n",
       "            <td>958.69</td>\n",
       "        </tr>\n",
       "    </tbody>\n",
       "</table>"
      ],
      "text/plain": [
       "[('Produto 11', 'Categoria 2', 993.44),\n",
       " ('Produto 86', 'Categoria 2', 991.4),\n",
       " ('Produto 57', 'Categoria 3', 990.91),\n",
       " ('Produto 47', 'Categoria 3', 968.15),\n",
       " ('Produto 88', 'Categoria 4', 958.69)]"
      ]
     },
     "execution_count": 26,
     "metadata": {},
     "output_type": "execute_result"
    }
   ],
   "source": [
    "%%sql\n",
    "SELECT p.nome, p.nomecategoria, ROUND(AVG(p.preco), 2) AS media_preco\n",
    "FROM produto AS p\n",
    "GROUP BY p.nome, p.nomecategoria\n",
    "ORDER BY media_preco DESC\n",
    "LIMIT 5;"
   ]
  },
  {
   "cell_type": "markdown",
   "metadata": {},
   "source": [
    "### 11. Qual a média de faturamento por categoria de produto? "
   ]
  },
  {
   "cell_type": "code",
   "execution_count": 27,
   "metadata": {},
   "outputs": [
    {
     "name": "stdout",
     "output_type": "stream",
     "text": [
      " * sqlite:///banco_de_dados.db\n",
      "Done.\n"
     ]
    },
    {
     "data": {
      "text/html": [
       "<table>\n",
       "    <thead>\n",
       "        <tr>\n",
       "            <th>nomecategoria</th>\n",
       "            <th>media_faturamento</th>\n",
       "        </tr>\n",
       "    </thead>\n",
       "    <tbody>\n",
       "        <tr>\n",
       "            <td>Categoria 1</td>\n",
       "            <td>2445.82</td>\n",
       "        </tr>\n",
       "        <tr>\n",
       "            <td>Categoria 2</td>\n",
       "            <td>2547.16</td>\n",
       "        </tr>\n",
       "        <tr>\n",
       "            <td>Categoria 3</td>\n",
       "            <td>2501.23</td>\n",
       "        </tr>\n",
       "        <tr>\n",
       "            <td>Categoria 4</td>\n",
       "            <td>2521.71</td>\n",
       "        </tr>\n",
       "        <tr>\n",
       "            <td>Categoria 5</td>\n",
       "            <td>2505.9</td>\n",
       "        </tr>\n",
       "    </tbody>\n",
       "</table>"
      ],
      "text/plain": [
       "[('Categoria 1', 2445.82),\n",
       " ('Categoria 2', 2547.16),\n",
       " ('Categoria 3', 2501.23),\n",
       " ('Categoria 4', 2521.71),\n",
       " ('Categoria 5', 2505.9)]"
      ]
     },
     "execution_count": 27,
     "metadata": {},
     "output_type": "execute_result"
    }
   ],
   "source": [
    "%%sql\n",
    "SELECT p.nomecategoria, ROUND(AVG(v.faturamento), 2) AS media_faturamento\n",
    "FROM produto AS p\n",
    "JOIN vendas AS V ON v.produtoid = p.produtoid\n",
    "GROUP BY nomecategoria;"
   ]
  },
  {
   "cell_type": "markdown",
   "metadata": {},
   "source": [
    "### 12. Qual o faturamento total por cidade do cliente? "
   ]
  },
  {
   "cell_type": "code",
   "execution_count": 28,
   "metadata": {},
   "outputs": [
    {
     "name": "stdout",
     "output_type": "stream",
     "text": [
      " * sqlite:///banco_de_dados.db\n",
      "Done.\n"
     ]
    },
    {
     "data": {
      "text/html": [
       "<table>\n",
       "    <thead>\n",
       "        <tr>\n",
       "            <th>cidadecliente</th>\n",
       "            <th>total_faturamento</th>\n",
       "        </tr>\n",
       "    </thead>\n",
       "    <tbody>\n",
       "        <tr>\n",
       "            <td>Buenos Aires</td>\n",
       "            <td>5049234.62</td>\n",
       "        </tr>\n",
       "        <tr>\n",
       "            <td>Ceará</td>\n",
       "            <td>4596261.78</td>\n",
       "        </tr>\n",
       "        <tr>\n",
       "            <td>New York</td>\n",
       "            <td>4735172.63</td>\n",
       "        </tr>\n",
       "        <tr>\n",
       "            <td>Rio de Janeiro</td>\n",
       "            <td>5061534.85</td>\n",
       "        </tr>\n",
       "        <tr>\n",
       "            <td>São Paulo</td>\n",
       "            <td>5603347.08</td>\n",
       "        </tr>\n",
       "    </tbody>\n",
       "</table>"
      ],
      "text/plain": [
       "[('Buenos Aires', 5049234.62),\n",
       " ('Ceará', 4596261.78),\n",
       " ('New York', 4735172.63),\n",
       " ('Rio de Janeiro', 5061534.85),\n",
       " ('São Paulo', 5603347.08)]"
      ]
     },
     "execution_count": 28,
     "metadata": {},
     "output_type": "execute_result"
    }
   ],
   "source": [
    "%%sql\n",
    "SELECT c.cidadecliente, ROUND(SUM(v.faturamento), 2) AS total_faturamento\n",
    "FROM cliente AS c\n",
    "JOIN vendas AS v ON v.clienteid = c.clienteid\n",
    "GROUP BY c.cidadecliente;"
   ]
  },
  {
   "cell_type": "markdown",
   "metadata": {},
   "source": [
    "### 13. Qual o faturamento médio nos dias úteis? "
   ]
  },
  {
   "cell_type": "code",
   "execution_count": 29,
   "metadata": {},
   "outputs": [
    {
     "name": "stdout",
     "output_type": "stream",
     "text": [
      " * sqlite:///banco_de_dados.db\n",
      "Done.\n"
     ]
    },
    {
     "data": {
      "text/html": [
       "<table>\n",
       "    <thead>\n",
       "        <tr>\n",
       "            <th>diadasemana</th>\n",
       "            <th>media_faturamento</th>\n",
       "        </tr>\n",
       "    </thead>\n",
       "    <tbody>\n",
       "        <tr>\n",
       "            <td>Monday   </td>\n",
       "            <td>2574.91</td>\n",
       "        </tr>\n",
       "        <tr>\n",
       "            <td>Tuesday  </td>\n",
       "            <td>2531.75</td>\n",
       "        </tr>\n",
       "        <tr>\n",
       "            <td>Wednesday</td>\n",
       "            <td>2493.11</td>\n",
       "        </tr>\n",
       "        <tr>\n",
       "            <td>Friday   </td>\n",
       "            <td>2468.17</td>\n",
       "        </tr>\n",
       "        <tr>\n",
       "            <td>Thursday </td>\n",
       "            <td>2435.96</td>\n",
       "        </tr>\n",
       "    </tbody>\n",
       "</table>"
      ],
      "text/plain": [
       "[('Monday   ', 2574.91),\n",
       " ('Tuesday  ', 2531.75),\n",
       " ('Wednesday', 2493.11),\n",
       " ('Friday   ', 2468.17),\n",
       " ('Thursday ', 2435.96)]"
      ]
     },
     "execution_count": 29,
     "metadata": {},
     "output_type": "execute_result"
    }
   ],
   "source": [
    "%%sql\n",
    "SELECT d.diadasemana, ROUND(AVG(v.faturamento), 2) AS media_faturamento\n",
    "FROM data AS d\n",
    "JOIN vendas AS v ON v.dataid = d.dataid\n",
    "WHERE TRIM(d.diadasemana) NOT IN('Sunday', 'Saturday') \n",
    "GROUP BY d.diadasemana\n",
    "ORDER BY media_faturamento DESC;"
   ]
  },
  {
   "cell_type": "markdown",
   "metadata": {},
   "source": [
    "### 14. Qual o valor total das vendas e do custo de frete por país do cliente e categoria de produto no ano de 2024?"
   ]
  },
  {
   "cell_type": "code",
   "execution_count": 30,
   "metadata": {},
   "outputs": [
    {
     "name": "stdout",
     "output_type": "stream",
     "text": [
      " * sqlite:///banco_de_dados.db\n",
      "Done.\n"
     ]
    },
    {
     "data": {
      "text/html": [
       "<table>\n",
       "    <thead>\n",
       "        <tr>\n",
       "            <th>data</th>\n",
       "            <th>paiscliente</th>\n",
       "            <th>nomecategoria</th>\n",
       "            <th>ano</th>\n",
       "            <th>total_vendas</th>\n",
       "            <th>total_frete</th>\n",
       "        </tr>\n",
       "    </thead>\n",
       "    <tbody>\n",
       "        <tr>\n",
       "            <td>2024-01-09</td>\n",
       "            <td>Argentina</td>\n",
       "            <td>Categoria 1</td>\n",
       "            <td>2024</td>\n",
       "            <td>3991</td>\n",
       "            <td>7736.72</td>\n",
       "        </tr>\n",
       "        <tr>\n",
       "            <td>2024-01-05</td>\n",
       "            <td>Argentina</td>\n",
       "            <td>Categoria 2</td>\n",
       "            <td>2024</td>\n",
       "            <td>4222</td>\n",
       "            <td>10113.15</td>\n",
       "        </tr>\n",
       "        <tr>\n",
       "            <td>2024-01-02</td>\n",
       "            <td>Argentina</td>\n",
       "            <td>Categoria 3</td>\n",
       "            <td>2024</td>\n",
       "            <td>3819</td>\n",
       "            <td>8966.76</td>\n",
       "        </tr>\n",
       "        <tr>\n",
       "            <td>2024-01-01</td>\n",
       "            <td>Argentina</td>\n",
       "            <td>Categoria 4</td>\n",
       "            <td>2024</td>\n",
       "            <td>3870</td>\n",
       "            <td>10137.66</td>\n",
       "        </tr>\n",
       "        <tr>\n",
       "            <td>2024-01-01</td>\n",
       "            <td>Argentina</td>\n",
       "            <td>Categoria 5</td>\n",
       "            <td>2024</td>\n",
       "            <td>4452</td>\n",
       "            <td>11466.04</td>\n",
       "        </tr>\n",
       "        <tr>\n",
       "            <td>2024-01-03</td>\n",
       "            <td>Brasil</td>\n",
       "            <td>Categoria 1</td>\n",
       "            <td>2024</td>\n",
       "            <td>11953</td>\n",
       "            <td>33415.14</td>\n",
       "        </tr>\n",
       "        <tr>\n",
       "            <td>2024-01-02</td>\n",
       "            <td>Brasil</td>\n",
       "            <td>Categoria 2</td>\n",
       "            <td>2024</td>\n",
       "            <td>10804</td>\n",
       "            <td>27615.69</td>\n",
       "        </tr>\n",
       "        <tr>\n",
       "            <td>2024-01-01</td>\n",
       "            <td>Brasil</td>\n",
       "            <td>Categoria 3</td>\n",
       "            <td>2024</td>\n",
       "            <td>11479</td>\n",
       "            <td>28435.43</td>\n",
       "        </tr>\n",
       "        <tr>\n",
       "            <td>2024-01-03</td>\n",
       "            <td>Brasil</td>\n",
       "            <td>Categoria 4</td>\n",
       "            <td>2024</td>\n",
       "            <td>11784</td>\n",
       "            <td>31540.25</td>\n",
       "        </tr>\n",
       "        <tr>\n",
       "            <td>2024-01-02</td>\n",
       "            <td>Brasil</td>\n",
       "            <td>Categoria 5</td>\n",
       "            <td>2024</td>\n",
       "            <td>13100</td>\n",
       "            <td>30719.17</td>\n",
       "        </tr>\n",
       "        <tr>\n",
       "            <td>2024-01-01</td>\n",
       "            <td>EUA</td>\n",
       "            <td>Categoria 1</td>\n",
       "            <td>2024</td>\n",
       "            <td>3894</td>\n",
       "            <td>7816.07</td>\n",
       "        </tr>\n",
       "        <tr>\n",
       "            <td>2024-01-05</td>\n",
       "            <td>EUA</td>\n",
       "            <td>Categoria 2</td>\n",
       "            <td>2024</td>\n",
       "            <td>3734</td>\n",
       "            <td>9125.91</td>\n",
       "        </tr>\n",
       "        <tr>\n",
       "            <td>2024-01-01</td>\n",
       "            <td>EUA</td>\n",
       "            <td>Categoria 3</td>\n",
       "            <td>2024</td>\n",
       "            <td>3099</td>\n",
       "            <td>9744.05</td>\n",
       "        </tr>\n",
       "        <tr>\n",
       "            <td>2024-01-02</td>\n",
       "            <td>EUA</td>\n",
       "            <td>Categoria 4</td>\n",
       "            <td>2024</td>\n",
       "            <td>4166</td>\n",
       "            <td>9766.27</td>\n",
       "        </tr>\n",
       "        <tr>\n",
       "            <td>2024-01-01</td>\n",
       "            <td>EUA</td>\n",
       "            <td>Categoria 5</td>\n",
       "            <td>2024</td>\n",
       "            <td>4300</td>\n",
       "            <td>11121.25</td>\n",
       "        </tr>\n",
       "    </tbody>\n",
       "</table>"
      ],
      "text/plain": [
       "[('2024-01-09', 'Argentina', 'Categoria 1', 2024, 3991, 7736.72),\n",
       " ('2024-01-05', 'Argentina', 'Categoria 2', 2024, 4222, 10113.15),\n",
       " ('2024-01-02', 'Argentina', 'Categoria 3', 2024, 3819, 8966.76),\n",
       " ('2024-01-01', 'Argentina', 'Categoria 4', 2024, 3870, 10137.66),\n",
       " ('2024-01-01', 'Argentina', 'Categoria 5', 2024, 4452, 11466.04),\n",
       " ('2024-01-03', 'Brasil', 'Categoria 1', 2024, 11953, 33415.14),\n",
       " ('2024-01-02', 'Brasil', 'Categoria 2', 2024, 10804, 27615.69),\n",
       " ('2024-01-01', 'Brasil', 'Categoria 3', 2024, 11479, 28435.43),\n",
       " ('2024-01-03', 'Brasil', 'Categoria 4', 2024, 11784, 31540.25),\n",
       " ('2024-01-02', 'Brasil', 'Categoria 5', 2024, 13100, 30719.17),\n",
       " ('2024-01-01', 'EUA', 'Categoria 1', 2024, 3894, 7816.07),\n",
       " ('2024-01-05', 'EUA', 'Categoria 2', 2024, 3734, 9125.91),\n",
       " ('2024-01-01', 'EUA', 'Categoria 3', 2024, 3099, 9744.05),\n",
       " ('2024-01-02', 'EUA', 'Categoria 4', 2024, 4166, 9766.27),\n",
       " ('2024-01-01', 'EUA', 'Categoria 5', 2024, 4300, 11121.25)]"
      ]
     },
     "execution_count": 30,
     "metadata": {},
     "output_type": "execute_result"
    }
   ],
   "source": [
    "%%sql\n",
    "SELECT d.data, c.paiscliente, p.nomecategoria, d.ano, SUM(v.quantidadevendida) AS total_vendas,\n",
    "ROUND(SUM(v.custofrete), 2) AS total_frete\n",
    "FROM cliente AS c\n",
    "JOIN vendas AS v ON v.clienteid = c.clienteid\n",
    "JOIN produto AS p ON v.produtoid = p.produtoid\n",
    "JOIN data AS d ON v.dataid = d.dataid\n",
    "WHERE d.ano = 2024\n",
    "GROUP BY c.paiscliente, p.nomecategoria, d.ano\n",
    "ORDER BY c.paiscliente;"
   ]
  },
  {
   "cell_type": "markdown",
   "metadata": {},
   "source": [
    "### 15. Qual o total de vendas e custo de frete por país do cliente e categoria de produto no ano de 2024 quando o custo total de frete for maior que 30.000?"
   ]
  },
  {
   "cell_type": "code",
   "execution_count": 31,
   "metadata": {},
   "outputs": [
    {
     "name": "stdout",
     "output_type": "stream",
     "text": [
      " * sqlite:///banco_de_dados.db\n",
      "Done.\n"
     ]
    },
    {
     "data": {
      "text/html": [
       "<table>\n",
       "    <thead>\n",
       "        <tr>\n",
       "            <th>data</th>\n",
       "            <th>paiscliente</th>\n",
       "            <th>nomecategoria</th>\n",
       "            <th>total_vendas</th>\n",
       "            <th>total_frete</th>\n",
       "        </tr>\n",
       "    </thead>\n",
       "    <tbody>\n",
       "        <tr>\n",
       "            <td>2024-01-03</td>\n",
       "            <td>Brasil</td>\n",
       "            <td>Categoria 1</td>\n",
       "            <td>11953</td>\n",
       "            <td>33415.14</td>\n",
       "        </tr>\n",
       "        <tr>\n",
       "            <td>2024-01-03</td>\n",
       "            <td>Brasil</td>\n",
       "            <td>Categoria 4</td>\n",
       "            <td>11784</td>\n",
       "            <td>31540.25</td>\n",
       "        </tr>\n",
       "        <tr>\n",
       "            <td>2024-01-02</td>\n",
       "            <td>Brasil</td>\n",
       "            <td>Categoria 5</td>\n",
       "            <td>13100</td>\n",
       "            <td>30719.17</td>\n",
       "        </tr>\n",
       "    </tbody>\n",
       "</table>"
      ],
      "text/plain": [
       "[('2024-01-03', 'Brasil', 'Categoria 1', 11953, 33415.14),\n",
       " ('2024-01-03', 'Brasil', 'Categoria 4', 11784, 31540.25),\n",
       " ('2024-01-02', 'Brasil', 'Categoria 5', 13100, 30719.17)]"
      ]
     },
     "execution_count": 31,
     "metadata": {},
     "output_type": "execute_result"
    }
   ],
   "source": [
    "%%sql\n",
    "SELECT d.data, c.paiscliente, p.nomecategoria, SUM(v.quantidadevendida) AS total_vendas, \n",
    "ROUND(SUM(v.custofrete), 2) AS total_frete\n",
    "FROM cliente AS c\n",
    "JOIN vendas AS v ON v.clienteid = c.clienteid\n",
    "JOIN produto AS p ON v.produtoid = p.produtoid\n",
    "JOIN data AS d ON v.dataid = d.dataid\n",
    "WHERE ano = 2024\n",
    "GROUP BY c.paiscliente, p.nomecategoria\n",
    "HAVING SUM(v.custofrete) > 30000\n",
    "ORDER BY c.paiscliente, p.nomecategoria;"
   ]
  },
  {
   "cell_type": "code",
   "execution_count": 32,
   "metadata": {},
   "outputs": [],
   "source": [
    "# Feche a conexão com o banco de dados\n",
    "cnn.close()"
   ]
  }
 ],
 "metadata": {
  "kernelspec": {
   "display_name": "Python 3 (ipykernel)",
   "language": "python",
   "name": "python3"
  },
  "language_info": {
   "codemirror_mode": {
    "name": "ipython",
    "version": 3
   },
   "file_extension": ".py",
   "mimetype": "text/x-python",
   "name": "python",
   "nbconvert_exporter": "python",
   "pygments_lexer": "ipython3",
   "version": "3.11.5"
  },
  "varInspector": {
   "cols": {
    "lenName": 16,
    "lenType": 16,
    "lenVar": 40
   },
   "kernels_config": {
    "python": {
     "delete_cmd_postfix": "",
     "delete_cmd_prefix": "del ",
     "library": "var_list.py",
     "varRefreshCmd": "print(var_dic_list())"
    },
    "r": {
     "delete_cmd_postfix": ") ",
     "delete_cmd_prefix": "rm(",
     "library": "var_list.r",
     "varRefreshCmd": "cat(var_dic_list()) "
    }
   },
   "types_to_exclude": [
    "module",
    "function",
    "builtin_function_or_method",
    "instance",
    "_Feature"
   ],
   "window_display": false
  }
 },
 "nbformat": 4,
 "nbformat_minor": 4
}
